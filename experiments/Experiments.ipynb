{
 "cells": [
  {
   "cell_type": "markdown",
   "metadata": {},
   "source": [
    "## Logic for lambda cron task"
   ]
  },
  {
   "cell_type": "code",
   "execution_count": null,
   "metadata": {},
   "outputs": [],
   "source": [
    "'''Getting batch data'''\n",
    "import requests\n",
    "import os\n",
    "\n",
    "crypto_api_key = os.environ['CRYPTO_API_KEY']\n",
    "headers = {\n",
    "    'authorization': 'Apikey ' + crypto_api_key\n",
    "}\n",
    "\n",
    "response = requests.get('https://min-api.cryptocompare.com/data/v2/histohour?fsym=BTC&tsym=USD&limit=30')"
   ]
  },
  {
   "cell_type": "code",
   "execution_count": null,
   "metadata": {},
   "outputs": [],
   "source": [
    "'''Getting from api response'''\n",
    "if response.status_code == 200:\n",
    "    data = response.json()['Data']['Data']\n",
    "else:\n",
    "    print('There is an error in the response')"
   ]
  },
  {
   "cell_type": "code",
   "execution_count": null,
   "metadata": {},
   "outputs": [],
   "source": [
    "data"
   ]
  },
  {
   "cell_type": "code",
   "execution_count": null,
   "metadata": {},
   "outputs": [],
   "source": [
    "import datetime\n",
    "\n",
    "datetime.datetime.fromtimestamp(data[len(data)-1]['time'])"
   ]
  },
  {
   "cell_type": "code",
   "execution_count": null,
   "metadata": {},
   "outputs": [],
   "source": [
    "'''Creating DataFrame from response data'''\n",
    "import pandas as pd\n",
    "\n",
    "df = pd.DataFrame(data)\n",
    "df = df.drop(['conversionSymbol', 'conversionType'], axis=1)"
   ]
  },
  {
   "cell_type": "code",
   "execution_count": null,
   "metadata": {},
   "outputs": [],
   "source": [
    "'''Calculating simple moving average from batch'''\n",
    "import numpy as np\n",
    "\n",
    "def calculate_moving_average(av_type, df):\n",
    "    values = df['high'].values\n",
    "    values = np.flip(values)\n",
    "    if av_type == 'short':\n",
    "        moving_average = sum(values[0:9])/len(values[0:9])\n",
    "        print(len(values[0:9]))\n",
    "    elif av_type == 'long':\n",
    "        print(len(values[0:30]))\n",
    "        moving_average = sum(values[0:30])/len(values[0:30])\n",
    "    return moving_average\n",
    "\n",
    "short_moving_average = calculate_moving_average(av_type='short', df=df)\n",
    "long_moving_average = calculate_moving_average(av_type='long', df=df)\n",
    "print(short_moving_average)\n",
    "print(long_moving_average)"
   ]
  },
  {
   "cell_type": "code",
   "execution_count": null,
   "metadata": {},
   "outputs": [],
   "source": [
    "24*30"
   ]
  },
  {
   "cell_type": "markdown",
   "metadata": {},
   "source": [
    "## Experiment with 2000 hours"
   ]
  },
  {
   "cell_type": "code",
   "execution_count": null,
   "metadata": {},
   "outputs": [],
   "source": [
    "'''Making request to get bunch data'''\n",
    "import requests\n",
    "\n",
    "crypto_api_key = os.environ['CRYPTO_API_KEY']\n",
    "headers = {\n",
    "    'authorization': 'Apikey ' + crypto_api_key\n",
    "}\n",
    "\n",
    "response = requests.get('https://min-api.cryptocompare.com/data/v2/histohour?fsym=BTC&tsym=USD&limit=2000')"
   ]
  },
  {
   "cell_type": "code",
   "execution_count": null,
   "metadata": {},
   "outputs": [],
   "source": [
    "'''Getting data from api response'''\n",
    "if response.status_code == 200:\n",
    "    data = response.json()['Data']['Data']\n",
    "else:\n",
    "    print('There is an error in the response')"
   ]
  },
  {
   "cell_type": "code",
   "execution_count": null,
   "metadata": {},
   "outputs": [],
   "source": [
    "''' Saving data for testing purposes'''\n",
    "import pickle\n",
    "from datetime import datetime\n",
    "import numpy as np\n",
    "\n",
    "data_array = np.array([])\n",
    "for i in data:\n",
    "    data_array = np.append(data_array, i['high'])\n",
    "\n",
    "file = open('btc_prices.pk', 'wb')\n",
    "pickle.dump(data_array, file)\n",
    "file.close()"
   ]
  },
  {
   "cell_type": "code",
   "execution_count": null,
   "metadata": {},
   "outputs": [],
   "source": [
    "import time\n",
    "\n",
    "class TradingSimulator:\n",
    "    def __init__(self, initial_amount, historical_prices):\n",
    "        self.current_currency = 'USD'\n",
    "        self.moving_averages = {'last': {'long':None, 'short':None}, 'now': {'long':None, 'short':None}}\n",
    "        self.initial_amount = initial_amount\n",
    "        self.current_amount = initial_amount\n",
    "        self.last_buying_amount = initial_amount\n",
    "        self.cumulative_earnings = 0\n",
    "        self.historical_prices = historical_prices\n",
    "        if len(historical_prices) > 21:\n",
    "            self.length = len(historical_prices)\n",
    "        else:\n",
    "            raise Exception('Simulator needs at least 21 data points')\n",
    "    \n",
    "    def start(self):\n",
    "        self.moving_averages['last']['long'] = self.calculate_moving_average(av_type='long')\n",
    "        self.moving_averages['last']['short'] = self.calculate_moving_average(av_type='short')\n",
    "        \n",
    "        for i, item in enumerate(self.historical_prices[21:], 21):\n",
    "            #time.sleep(1)\n",
    "            self.moving_averages['now']['long'] = self.calculate_moving_average(av_type='long', index=i)\n",
    "            self.moving_averages['now']['short'] = self.calculate_moving_average(av_type='short', index=i)\n",
    "            self.decide_action(price = item)\n",
    "            self.moving_averages['last']['long'] = self.moving_averages['now']['long']\n",
    "            self.moving_averages['last']['short'] = self.moving_averages['now']['short']\n",
    "        return self.current_usd()\n",
    "    \n",
    "    def calculate_moving_average(self, av_type, index=21):\n",
    "        short_values = self.historical_prices[index-9:index]\n",
    "        long_values = self.historical_prices[index-21:index]\n",
    "        if av_type == 'short':\n",
    "            moving_average = sum(short_values)/len(short_values)\n",
    "        elif av_type == 'long':\n",
    "            moving_average = sum(long_values)/len(long_values)\n",
    "        return moving_average\n",
    "    \n",
    "    def decide_action(self, price):\n",
    "        if self.current_currency == 'BTC':\n",
    "            #Selling with 10% earnings rule\n",
    "            if self.current_amount * price > 1.05 * self.last_buying_amount:\n",
    "                if self.current_amount * price > self.initial_amount:\n",
    "                    self.cumulative_earnings = self.cumulative_earnings + (self.current_amount * price) - self.initial_amount\n",
    "                    self.current_amount = self.initial_amount\n",
    "                else:\n",
    "                    self.current_amount = self.current_amount * price\n",
    "                self.current_currency = 'USD'\n",
    "                print('Earnings taken: SELL', self.current_amount, self.current_currency)\n",
    "\n",
    "            #STOP LOSS\n",
    "            '''\n",
    "            elif self.current_amount * price < 0.9 * self.last_buying_amount:\n",
    "                self.current_amount = self.current_amount * price\n",
    "                self.current_currency = 'USD'\n",
    "                print('Stop Loss: SELL', self.current_amount, self.current_currency)\n",
    "            '''\n",
    "        #Bull tendency case\n",
    "        if self.moving_averages['now']['long'] > self.moving_averages['now']['short']:\n",
    "            if self.moving_averages['last']['long'] < self.moving_averages['last']['short']:\n",
    "                if self.current_currency == 'USD':\n",
    "                    self.current_amount = self.current_amount / price\n",
    "                    self.current_currency = 'BTC'\n",
    "                    print('Short cross up: BUY', self.current_amount, self.current_currency)\n",
    "            else:\n",
    "                print('Tendency is the same as last hour')\n",
    "        #Bear tendency case\n",
    "        else:\n",
    "            if self.moving_averages['last']['long'] > self.moving_averages['last']['short']:\n",
    "                if self.current_currency == 'BTC':\n",
    "                    if self.current_amount * price > self.initial_amount:\n",
    "                        self.cumulative_earnings = self.cumulative_earnings + (self.current_amount * price) - self.initial_amount\n",
    "                        self.current_amount = self.initial_amount\n",
    "                    else:\n",
    "                        self.current_amount = self.current_amount * price\n",
    "                    self.current_currency = 'USD'\n",
    "                    print('Short cross down: SELL', self.current_amount, self.current_currency)\n",
    "            else:\n",
    "                print('Tendency is the same as last hour')\n",
    "    \n",
    "    def current_usd(self):\n",
    "        if self.current_currency == 'USD':\n",
    "            return self.current_amount + self.cumulative_earnings\n",
    "        else:\n",
    "            return (self.current_amount * self.historical_prices[len(self.historical_prices) - 1]) + self.cumulative_earnings"
   ]
  },
  {
   "cell_type": "code",
   "execution_count": null,
   "metadata": {},
   "outputs": [],
   "source": [
    "simulator = TradingSimulator(initial_amount = 100 , historical_prices = data_array)"
   ]
  },
  {
   "cell_type": "code",
   "execution_count": null,
   "metadata": {
    "tags": []
   },
   "outputs": [],
   "source": [
    "result = simulator.start()"
   ]
  },
  {
   "cell_type": "code",
   "execution_count": null,
   "metadata": {},
   "outputs": [],
   "source": [
    "print(result)"
   ]
  },
  {
   "source": [
    "# Bitso"
   ],
   "cell_type": "markdown",
   "metadata": {}
  },
  {
   "cell_type": "code",
   "execution_count": null,
   "metadata": {},
   "outputs": [],
   "source": [
    "import bitso\n",
    "import os\n",
    "\n",
    "key = os.environ['BITSO_API_KEY']\n",
    "secret = os.environ['BITSO_API_SECRET']\n",
    "\n",
    "api = bitso.Api(key, secret)"
   ]
  },
  {
   "cell_type": "code",
   "execution_count": null,
   "metadata": {},
   "outputs": [],
   "source": [
    "status = api.account_status()\n",
    "status.daily_limit"
   ]
  },
  {
   "cell_type": "code",
   "execution_count": null,
   "metadata": {},
   "outputs": [],
   "source": [
    "trades = api.trades('btc_mxn')\n",
    "last_sell = None\n",
    "last_buy = None\n",
    "for trade in trades:\n",
    "    if not last_sell:\n",
    "        if trade.maker_side == 'sell':\n",
    "            last_sell = trade\n",
    "    if not last_buy:\n",
    "        if trade.maker_side == 'buy':\n",
    "            last_buy = trade\n",
    "    if last_sell and last_buy:\n",
    "        break\n",
    "last_buy"
   ]
  },
  {
   "cell_type": "code",
   "execution_count": null,
   "metadata": {},
   "outputs": [],
   "source": [
    "last_sell"
   ]
  },
  {
   "cell_type": "code",
   "execution_count": null,
   "metadata": {},
   "outputs": [],
   "source": [
    "len(trades)"
   ]
  },
  {
   "cell_type": "code",
   "execution_count": null,
   "metadata": {},
   "outputs": [],
   "source": [
    "fees = api.fees()"
   ]
  },
  {
   "cell_type": "code",
   "execution_count": null,
   "metadata": {},
   "outputs": [],
   "source": [
    "fees.btc_mxn.fee_percent"
   ]
  },
  {
   "cell_type": "code",
   "execution_count": null,
   "metadata": {},
   "outputs": [],
   "source": [
    "from decimal import Decimal\n",
    "x = Decimal(str(100.92382983))\n",
    "x"
   ]
  }
 ],
 "metadata": {
  "kernelspec": {
   "name": "python374jvsc74a57bd0dca0ade3e726a953b501b15e8e990130d2b7799f14cfd9f4271676035ebe5511",
   "display_name": "Python 3.7.4 64-bit ('base': conda)"
  },
  "language_info": {
   "codemirror_mode": {
    "name": "ipython",
    "version": 3
   },
   "file_extension": ".py",
   "mimetype": "text/x-python",
   "name": "python",
   "nbconvert_exporter": "python",
   "pygments_lexer": "ipython3",
   "version": "3.7.4"
  }
 },
 "nbformat": 4,
 "nbformat_minor": 2
}