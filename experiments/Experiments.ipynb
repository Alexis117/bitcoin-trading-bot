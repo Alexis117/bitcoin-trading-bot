{
 "cells": [
  {
   "cell_type": "markdown",
   "metadata": {},
   "source": [
    "## Logic for lambda cron task"
   ]
  },
  {
   "cell_type": "code",
   "execution_count": 1,
   "metadata": {},
   "outputs": [],
   "source": [
    "'''Getting batch data'''\n",
    "import requests\n",
    "import os\n",
    "\n",
    "crypto_api_key = os.environ['CRYPTO_API_KEY']\n",
    "headers = {\n",
    "    'authorization': 'Apikey ' + crypto_api_key\n",
    "}\n",
    "\n",
    "response = requests.get('https://min-api.cryptocompare.com/data/v2/histohour?fsym=BTC&tsym=USD&limit=30')"
   ]
  },
  {
   "cell_type": "code",
   "execution_count": 2,
   "metadata": {},
   "outputs": [],
   "source": [
    "'''Getting from api response'''\n",
    "if response.status_code == 200:\n",
    "    data = response.json()['Data']['Data']\n",
    "else:\n",
    "    print('There is an error in the response')"
   ]
  },
  {
   "cell_type": "code",
   "execution_count": 5,
   "metadata": {},
   "outputs": [
    {
     "output_type": "execute_result",
     "data": {
      "text/plain": [
       "[{'time': 1618498800,\n",
       "  'high': 62795.63,\n",
       "  'low': 62456.65,\n",
       "  'open': 62689.01,\n",
       "  'volumefrom': 1307.51,\n",
       "  'volumeto': 81889466.19,\n",
       "  'close': 62755.67,\n",
       "  'conversionType': 'direct',\n",
       "  'conversionSymbol': ''},\n",
       " {'time': 1618502400,\n",
       "  'high': 62995.04,\n",
       "  'low': 62523.27,\n",
       "  'open': 62755.67,\n",
       "  'volumefrom': 1749.7,\n",
       "  'volumeto': 109834725.01,\n",
       "  'close': 62716.63,\n",
       "  'conversionType': 'direct',\n",
       "  'conversionSymbol': ''},\n",
       " {'time': 1618506000,\n",
       "  'high': 62748.02,\n",
       "  'low': 62368.55,\n",
       "  'open': 62716.63,\n",
       "  'volumefrom': 1112.21,\n",
       "  'volumeto': 69561965.05,\n",
       "  'close': 62618.94,\n",
       "  'conversionType': 'direct',\n",
       "  'conversionSymbol': ''},\n",
       " {'time': 1618509600,\n",
       "  'high': 62899.46,\n",
       "  'low': 62550.24,\n",
       "  'open': 62618.94,\n",
       "  'volumefrom': 1141,\n",
       "  'volumeto': 71578711.24,\n",
       "  'close': 62799.13,\n",
       "  'conversionType': 'direct',\n",
       "  'conversionSymbol': ''},\n",
       " {'time': 1618513200,\n",
       "  'high': 63649.54,\n",
       "  'low': 62793.39,\n",
       "  'open': 62799.13,\n",
       "  'volumefrom': 4421.55,\n",
       "  'volumeto': 279559566.97,\n",
       "  'close': 63468.89,\n",
       "  'conversionType': 'direct',\n",
       "  'conversionSymbol': ''},\n",
       " {'time': 1618516800,\n",
       "  'high': 63652.57,\n",
       "  'low': 63246.86,\n",
       "  'open': 63468.89,\n",
       "  'volumefrom': 2554.52,\n",
       "  'volumeto': 162139827.95,\n",
       "  'close': 63414.33,\n",
       "  'conversionType': 'direct',\n",
       "  'conversionSymbol': ''},\n",
       " {'time': 1618520400,\n",
       "  'high': 63826.89,\n",
       "  'low': 63329.1,\n",
       "  'open': 63414.33,\n",
       "  'volumefrom': 1344.95,\n",
       "  'volumeto': 85387515.52,\n",
       "  'close': 63454.06,\n",
       "  'conversionType': 'direct',\n",
       "  'conversionSymbol': ''},\n",
       " {'time': 1618524000,\n",
       "  'high': 63593.98,\n",
       "  'low': 63280.23,\n",
       "  'open': 63454.06,\n",
       "  'volumefrom': 1227.34,\n",
       "  'volumeto': 77828190.3,\n",
       "  'close': 63325.34,\n",
       "  'conversionType': 'direct',\n",
       "  'conversionSymbol': ''},\n",
       " {'time': 1618527600,\n",
       "  'high': 63407.87,\n",
       "  'low': 63058.97,\n",
       "  'open': 63325.34,\n",
       "  'volumefrom': 1104.34,\n",
       "  'volumeto': 69843315.11,\n",
       "  'close': 63233.03,\n",
       "  'conversionType': 'direct',\n",
       "  'conversionSymbol': ''},\n",
       " {'time': 1618531200,\n",
       "  'high': 63567.11,\n",
       "  'low': 63116.05,\n",
       "  'open': 63233.03,\n",
       "  'volumefrom': 1487.93,\n",
       "  'volumeto': 94347993.88,\n",
       "  'close': 63421.77,\n",
       "  'conversionType': 'direct',\n",
       "  'conversionSymbol': ''},\n",
       " {'time': 1618534800,\n",
       "  'high': 63531.7,\n",
       "  'low': 62791.4,\n",
       "  'open': 63421.77,\n",
       "  'volumefrom': 2913.91,\n",
       "  'volumeto': 184137721.26,\n",
       "  'close': 63096,\n",
       "  'conversionType': 'direct',\n",
       "  'conversionSymbol': ''},\n",
       " {'time': 1618538400,\n",
       "  'high': 63262.61,\n",
       "  'low': 62782.72,\n",
       "  'open': 63096,\n",
       "  'volumefrom': 2000.26,\n",
       "  'volumeto': 126086890.22,\n",
       "  'close': 62860.11,\n",
       "  'conversionType': 'direct',\n",
       "  'conversionSymbol': ''},\n",
       " {'time': 1618542000,\n",
       "  'high': 63221.77,\n",
       "  'low': 62786.48,\n",
       "  'open': 62860.11,\n",
       "  'volumefrom': 1679.83,\n",
       "  'volumeto': 105875089.78,\n",
       "  'close': 62977.61,\n",
       "  'conversionType': 'direct',\n",
       "  'conversionSymbol': ''},\n",
       " {'time': 1618545600,\n",
       "  'high': 63002.25,\n",
       "  'low': 61682.7,\n",
       "  'open': 62977.61,\n",
       "  'volumefrom': 4670.46,\n",
       "  'volumeto': 290863910.8,\n",
       "  'close': 61722.48,\n",
       "  'conversionType': 'direct',\n",
       "  'conversionSymbol': ''},\n",
       " {'time': 1618549200,\n",
       "  'high': 62226.06,\n",
       "  'low': 61493.19,\n",
       "  'open': 61722.48,\n",
       "  'volumefrom': 3065.68,\n",
       "  'volumeto': 189604299.77,\n",
       "  'close': 61853.23,\n",
       "  'conversionType': 'direct',\n",
       "  'conversionSymbol': ''},\n",
       " {'time': 1618552800,\n",
       "  'high': 61858.1,\n",
       "  'low': 61127.36,\n",
       "  'open': 61853.23,\n",
       "  'volumefrom': 4440.28,\n",
       "  'volumeto': 272541808.03,\n",
       "  'close': 61508.34,\n",
       "  'conversionType': 'direct',\n",
       "  'conversionSymbol': ''},\n",
       " {'time': 1618556400,\n",
       "  'high': 61665.21,\n",
       "  'low': 61136.22,\n",
       "  'open': 61508.34,\n",
       "  'volumefrom': 1955.56,\n",
       "  'volumeto': 120001406.74,\n",
       "  'close': 61444.5,\n",
       "  'conversionType': 'direct',\n",
       "  'conversionSymbol': ''},\n",
       " {'time': 1618560000,\n",
       "  'high': 61671.59,\n",
       "  'low': 61213.07,\n",
       "  'open': 61444.5,\n",
       "  'volumefrom': 1770.69,\n",
       "  'volumeto': 108779288.77,\n",
       "  'close': 61252.36,\n",
       "  'conversionType': 'direct',\n",
       "  'conversionSymbol': ''},\n",
       " {'time': 1618563600,\n",
       "  'high': 61304.34,\n",
       "  'low': 60463.78,\n",
       "  'open': 61252.36,\n",
       "  'volumefrom': 4168.3,\n",
       "  'volumeto': 253593614.76,\n",
       "  'close': 60686.45,\n",
       "  'conversionType': 'direct',\n",
       "  'conversionSymbol': ''},\n",
       " {'time': 1618567200,\n",
       "  'high': 60969.79,\n",
       "  'low': 60280.96,\n",
       "  'open': 60686.45,\n",
       "  'volumefrom': 2557.55,\n",
       "  'volumeto': 155063346.74,\n",
       "  'close': 60281.8,\n",
       "  'conversionType': 'direct',\n",
       "  'conversionSymbol': ''},\n",
       " {'time': 1618570800,\n",
       "  'high': 60889.51,\n",
       "  'low': 60048.13,\n",
       "  'open': 60281.8,\n",
       "  'volumefrom': 3680.4,\n",
       "  'volumeto': 222571891.82,\n",
       "  'close': 60884.74,\n",
       "  'conversionType': 'direct',\n",
       "  'conversionSymbol': ''},\n",
       " {'time': 1618574400,\n",
       "  'high': 61041.75,\n",
       "  'low': 60604.58,\n",
       "  'open': 60884.74,\n",
       "  'volumefrom': 1855.28,\n",
       "  'volumeto': 112825275.21,\n",
       "  'close': 60783.52,\n",
       "  'conversionType': 'direct',\n",
       "  'conversionSymbol': ''},\n",
       " {'time': 1618578000,\n",
       "  'high': 61281.78,\n",
       "  'low': 60367.61,\n",
       "  'open': 60783.52,\n",
       "  'volumefrom': 4517.45,\n",
       "  'volumeto': 275079682.37,\n",
       "  'close': 60673.75,\n",
       "  'conversionType': 'direct',\n",
       "  'conversionSymbol': ''},\n",
       " {'time': 1618581600,\n",
       "  'high': 61595.08,\n",
       "  'low': 60631.1,\n",
       "  'open': 60673.75,\n",
       "  'volumefrom': 3287.39,\n",
       "  'volumeto': 201301088.87,\n",
       "  'close': 61412.16,\n",
       "  'conversionType': 'direct',\n",
       "  'conversionSymbol': ''},\n",
       " {'time': 1618585200,\n",
       "  'high': 61724.24,\n",
       "  'low': 61270.85,\n",
       "  'open': 61412.16,\n",
       "  'volumefrom': 2126.35,\n",
       "  'volumeto': 130704145.01,\n",
       "  'close': 61681.34,\n",
       "  'conversionType': 'direct',\n",
       "  'conversionSymbol': ''},\n",
       " {'time': 1618588800,\n",
       "  'high': 61845.42,\n",
       "  'low': 61333.46,\n",
       "  'open': 61681.34,\n",
       "  'volumefrom': 2526.2,\n",
       "  'volumeto': 155570899.31,\n",
       "  'close': 61770.05,\n",
       "  'conversionType': 'direct',\n",
       "  'conversionSymbol': ''},\n",
       " {'time': 1618592400,\n",
       "  'high': 61871.06,\n",
       "  'low': 61655.75,\n",
       "  'open': 61770.05,\n",
       "  'volumefrom': 1549.21,\n",
       "  'volumeto': 95723474.3,\n",
       "  'close': 61658.6,\n",
       "  'conversionType': 'direct',\n",
       "  'conversionSymbol': ''},\n",
       " {'time': 1618596000,\n",
       "  'high': 61868.08,\n",
       "  'low': 61214.11,\n",
       "  'open': 61658.6,\n",
       "  'volumefrom': 1390.39,\n",
       "  'volumeto': 85538414.72,\n",
       "  'close': 61864.39,\n",
       "  'conversionType': 'direct',\n",
       "  'conversionSymbol': ''},\n",
       " {'time': 1618599600,\n",
       "  'high': 61913.87,\n",
       "  'low': 61458,\n",
       "  'open': 61864.39,\n",
       "  'volumefrom': 1324.61,\n",
       "  'volumeto': 81764645.32,\n",
       "  'close': 61809.01,\n",
       "  'conversionType': 'direct',\n",
       "  'conversionSymbol': ''},\n",
       " {'time': 1618603200,\n",
       "  'high': 62050.08,\n",
       "  'low': 61731.28,\n",
       "  'open': 61809.01,\n",
       "  'volumefrom': 1492.88,\n",
       "  'volumeto': 92426268.96,\n",
       "  'close': 61976.89,\n",
       "  'conversionType': 'direct',\n",
       "  'conversionSymbol': ''},\n",
       " {'time': 1618606800,\n",
       "  'high': 62064.69,\n",
       "  'low': 61974.61,\n",
       "  'open': 61976.89,\n",
       "  'volumefrom': 85.86,\n",
       "  'volumeto': 5326066.95,\n",
       "  'close': 62063.98,\n",
       "  'conversionType': 'direct',\n",
       "  'conversionSymbol': ''}]"
      ]
     },
     "metadata": {},
     "execution_count": 5
    }
   ],
   "source": [
    "data"
   ]
  },
  {
   "cell_type": "code",
   "execution_count": 7,
   "metadata": {},
   "outputs": [
    {
     "output_type": "execute_result",
     "data": {
      "text/plain": [
       "datetime.datetime(2021, 4, 16, 16, 0)"
      ]
     },
     "metadata": {},
     "execution_count": 7
    }
   ],
   "source": [
    "import datetime\n",
    "\n",
    "datetime.datetime.fromtimestamp(data[len(data)-1]['time'])"
   ]
  },
  {
   "cell_type": "code",
   "execution_count": null,
   "metadata": {},
   "outputs": [],
   "source": [
    "'''Creating DataFrame from response data'''\n",
    "import pandas as pd\n",
    "\n",
    "df = pd.DataFrame(data)\n",
    "df = df.drop(['conversionSymbol', 'conversionType'], axis=1)"
   ]
  },
  {
   "cell_type": "code",
   "execution_count": null,
   "metadata": {},
   "outputs": [],
   "source": [
    "'''Calculating simple moving average from batch'''\n",
    "import numpy as np\n",
    "\n",
    "def calculate_moving_average(av_type, df):\n",
    "    values = df['high'].values\n",
    "    values = np.flip(values)\n",
    "    if av_type == 'short':\n",
    "        moving_average = sum(values[0:9])/len(values[0:9])\n",
    "        print(len(values[0:9]))\n",
    "    elif av_type == 'long':\n",
    "        print(len(values[0:30]))\n",
    "        moving_average = sum(values[0:30])/len(values[0:30])\n",
    "    return moving_average\n",
    "\n",
    "short_moving_average = calculate_moving_average(av_type='short', df=df)\n",
    "long_moving_average = calculate_moving_average(av_type='long', df=df)\n",
    "print(short_moving_average)\n",
    "print(long_moving_average)"
   ]
  },
  {
   "cell_type": "code",
   "execution_count": null,
   "metadata": {},
   "outputs": [],
   "source": [
    "24*30"
   ]
  },
  {
   "cell_type": "markdown",
   "metadata": {},
   "source": [
    "## Experiment with 2000 hours"
   ]
  },
  {
   "cell_type": "code",
   "execution_count": null,
   "metadata": {},
   "outputs": [],
   "source": [
    "'''Making request to get bunch data'''\n",
    "import requests\n",
    "\n",
    "headers = {\n",
    "    'authorization': 'Apikey ' + crypto_api_key\n",
    "}\n",
    "\n",
    "response = requests.get('https://min-api.cryptocompare.com/data/v2/histohour?fsym=BTC&tsym=USD&limit=2000')"
   ]
  },
  {
   "cell_type": "code",
   "execution_count": null,
   "metadata": {},
   "outputs": [],
   "source": [
    "'''Getting data from api response'''\n",
    "if response.status_code == 200:\n",
    "    data = response.json()['Data']['Data']\n",
    "else:\n",
    "    print('There is an error in the response')"
   ]
  },
  {
   "cell_type": "code",
   "execution_count": null,
   "metadata": {},
   "outputs": [],
   "source": [
    "''' Saving data for testing purposes'''\n",
    "import pickle\n",
    "from datetime import datetime\n",
    "\n",
    "data_array = np.array([])\n",
    "for i in data:\n",
    "    data_array = np.append(data_array, i['high'])\n",
    "\n",
    "file = open('btc_prices.pk', 'wb')\n",
    "pickle.dump(data_array, file)\n",
    "file.close()"
   ]
  },
  {
   "cell_type": "code",
   "execution_count": null,
   "metadata": {},
   "outputs": [],
   "source": [
    "import time\n",
    "\n",
    "class TradingSimulator:\n",
    "    def __init__(self, initial_amount, historical_prices):\n",
    "        self.current_currency = 'USD'\n",
    "        self.moving_averages = {'last': {'long':None, 'short':None}, 'now': {'long':None, 'short':None}}\n",
    "        self.initial_amount = initial_amount\n",
    "        self.current_amount = initial_amount\n",
    "        self.last_buying_amount = initial_amount\n",
    "        self.cumulative_earnings = 0\n",
    "        self.historical_prices = historical_prices\n",
    "        if len(historical_prices) > 21:\n",
    "            self.length = len(historical_prices)\n",
    "        else:\n",
    "            raise Exception('Simulator needs at least 21 data points')\n",
    "    \n",
    "    def start(self):\n",
    "        self.moving_averages['last']['long'] = self.calculate_moving_average(av_type='long')\n",
    "        self.moving_averages['last']['short'] = self.calculate_moving_average(av_type='short')\n",
    "        \n",
    "        for i, item in enumerate(self.historical_prices[21:], 21):\n",
    "            #time.sleep(1)\n",
    "            self.moving_averages['now']['long'] = self.calculate_moving_average(av_type='long', index=i)\n",
    "            self.moving_averages['now']['short'] = self.calculate_moving_average(av_type='short', index=i)\n",
    "            self.decide_action(price = item)\n",
    "            self.moving_averages['last']['long'] = self.moving_averages['now']['long']\n",
    "            self.moving_averages['last']['short'] = self.moving_averages['now']['short']\n",
    "        return self.current_usd()\n",
    "    \n",
    "    def calculate_moving_average(self, av_type, index=21):\n",
    "        short_values = self.historical_prices[index-9:index]\n",
    "        long_values = self.historical_prices[index-21:index]\n",
    "        if av_type == 'short':\n",
    "            moving_average = sum(short_values)/len(short_values)\n",
    "        elif av_type == 'long':\n",
    "            moving_average = sum(long_values)/len(long_values)\n",
    "        return moving_average\n",
    "    \n",
    "    def decide_action(self, price):\n",
    "        if self.current_currency == 'BTC':\n",
    "            #Selling with 10% earnings rule\n",
    "            if self.current_amount * price > 1.05 * self.last_buying_amount:\n",
    "                if self.current_amount * price > self.initial_amount:\n",
    "                    self.cumulative_earnings = self.cumulative_earnings + (self.current_amount * price) - self.initial_amount\n",
    "                    self.current_amount = self.initial_amount\n",
    "                else:\n",
    "                    self.current_amount = self.current_amount * price\n",
    "                self.current_currency = 'USD'\n",
    "                print('Earnings taken: SELL', self.current_amount, self.current_currency)\n",
    "\n",
    "            #STOP LOSS\n",
    "            '''\n",
    "            elif self.current_amount * price < 0.9 * self.last_buying_amount:\n",
    "                self.current_amount = self.current_amount * price\n",
    "                self.current_currency = 'USD'\n",
    "                print('Stop Loss: SELL', self.current_amount, self.current_currency)\n",
    "            ''' \n",
    "        #Bull tendency case\n",
    "        if self.moving_averages['now']['long'] > self.moving_averages['now']['short']:\n",
    "            if self.moving_averages['last']['long'] < self.moving_averages['last']['short']:\n",
    "                if self.current_currency == 'USD':\n",
    "                    self.current_amount = self.current_amount / price\n",
    "                    self.current_currency = 'BTC'\n",
    "                    print('Short cross up: BUY', self.current_amount, self.current_currency)\n",
    "            else:\n",
    "                print('Tendency is the same as last hour')\n",
    "        #Bear tendency case\n",
    "        else:\n",
    "            if self.moving_averages['last']['long'] > self.moving_averages['last']['short']:\n",
    "                if self.current_currency == 'BTC':\n",
    "                    if self.current_amount * price > self.initial_amount:\n",
    "                        self.cumulative_earnings = self.cumulative_earnings + (self.current_amount * price) - self.initial_amount\n",
    "                        self.current_amount = self.initial_amount\n",
    "                    else:\n",
    "                        self.current_amount = self.current_amount * price\n",
    "                    self.current_currency = 'USD'\n",
    "                    print('Short cross down: SELL', self.current_amount, self.current_currency)\n",
    "            else:\n",
    "                print('Tendency is the same as last hour')\n",
    "    \n",
    "    def current_usd(self):\n",
    "        if self.current_currency == 'USD':\n",
    "            return self.current_amount + self.cumulative_earnings\n",
    "        else:\n",
    "            return (self.current_amount * self.historical_prices[len(self.historical_prices) - 1]) + self.cumulative_earnings"
   ]
  },
  {
   "cell_type": "code",
   "execution_count": null,
   "metadata": {},
   "outputs": [],
   "source": [
    "simulator = TradingSimulator(initial_amount = 100 , historical_prices = data_array)"
   ]
  },
  {
   "cell_type": "code",
   "execution_count": null,
   "metadata": {
    "tags": []
   },
   "outputs": [],
   "source": [
    "result = simulator.start()"
   ]
  },
  {
   "cell_type": "code",
   "execution_count": null,
   "metadata": {},
   "outputs": [],
   "source": [
    "print(result)"
   ]
  },
  {
   "source": [
    "# Bitso"
   ],
   "cell_type": "markdown",
   "metadata": {}
  },
  {
   "cell_type": "code",
   "execution_count": 8,
   "metadata": {},
   "outputs": [],
   "source": [
    "import bitso\n",
    "import os\n",
    "\n",
    "key = os.environ['BITSO_API_KEY']\n",
    "secret = os.environ['BITSO_API_SECRET']\n",
    "\n",
    "api = bitso.Api(key, secret)"
   ]
  },
  {
   "cell_type": "code",
   "execution_count": 9,
   "metadata": {},
   "outputs": [
    {
     "output_type": "execute_result",
     "data": {
      "text/plain": [
       "Decimal('18000')"
      ]
     },
     "metadata": {},
     "execution_count": 9
    }
   ],
   "source": [
    "status = api.account_status()\n",
    "status.daily_limit"
   ]
  },
  {
   "cell_type": "code",
   "execution_count": 20,
   "metadata": {},
   "outputs": [
    {
     "output_type": "execute_result",
     "data": {
      "text/plain": [
       "Trade(tid=30444879, price=1233323.20, amount=0.00011709, maker_side=buy, created_at=2021-04-16 21:50:16+00:00)"
      ]
     },
     "metadata": {},
     "execution_count": 20
    }
   ],
   "source": [
    "trades = api.trades('btc_mxn')\n",
    "last_sell = None\n",
    "last_buy = None\n",
    "for trade in trades:\n",
    "    if not last_sell:\n",
    "        if trade.maker_side == 'sell':\n",
    "            last_sell = trade\n",
    "    if not last_buy:\n",
    "        if trade.maker_side == 'buy':\n",
    "            last_buy = trade\n",
    "    if last_sell and last_buy:\n",
    "        break\n",
    "last_buy"
   ]
  },
  {
   "cell_type": "code",
   "execution_count": 18,
   "metadata": {},
   "outputs": [
    {
     "output_type": "execute_result",
     "data": {
      "text/plain": [
       "Trade(tid=30444755, price=1233428.21, amount=0.00162150, maker_side=sell, created_at=2021-04-16 21:48:39+00:00)"
      ]
     },
     "metadata": {},
     "execution_count": 18
    }
   ],
   "source": [
    "last_sell"
   ]
  },
  {
   "cell_type": "code",
   "execution_count": 21,
   "metadata": {},
   "outputs": [
    {
     "output_type": "execute_result",
     "data": {
      "text/plain": [
       "100"
      ]
     },
     "metadata": {},
     "execution_count": 21
    }
   ],
   "source": [
    "len(trades)"
   ]
  },
  {
   "cell_type": "code",
   "execution_count": 22,
   "metadata": {},
   "outputs": [],
   "source": [
    "fees = api.fees()"
   ]
  },
  {
   "cell_type": "code",
   "execution_count": 24,
   "metadata": {},
   "outputs": [
    {
     "output_type": "execute_result",
     "data": {
      "text/plain": [
       "Decimal('0.6500')"
      ]
     },
     "metadata": {},
     "execution_count": 24
    }
   ],
   "source": [
    "fees.btc_mxn.fee_percent"
   ]
  }
 ],
 "metadata": {
  "kernelspec": {
   "name": "python374jvsc74a57bd0dca0ade3e726a953b501b15e8e990130d2b7799f14cfd9f4271676035ebe5511",
   "display_name": "Python 3.7.4 64-bit ('base': conda)"
  },
  "language_info": {
   "codemirror_mode": {
    "name": "ipython",
    "version": 3
   },
   "file_extension": ".py",
   "mimetype": "text/x-python",
   "name": "python",
   "nbconvert_exporter": "python",
   "pygments_lexer": "ipython3",
   "version": "3.7.4"
  }
 },
 "nbformat": 4,
 "nbformat_minor": 2
}